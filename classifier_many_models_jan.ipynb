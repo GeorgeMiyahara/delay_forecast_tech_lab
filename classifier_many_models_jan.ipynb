{
  "cells": [
    {
      "cell_type": "markdown",
      "metadata": {
        "id": "view-in-github",
        "colab_type": "text"
      },
      "source": [
        "<a href=\"https://colab.research.google.com/github/shampabhusal/delay_forecast_tech_lab/blob/main/classifier_many_models_jan.ipynb\" target=\"_parent\"><img src=\"https://colab.research.google.com/assets/colab-badge.svg\" alt=\"Open In Colab\"/></a>"
      ]
    },
    {
      "cell_type": "code",
      "execution_count": 1,
      "id": "b29c306a",
      "metadata": {
        "id": "b29c306a",
        "colab": {
          "base_uri": "https://localhost:8080/"
        },
        "outputId": "1b5c6850-8f11-4a4b-c8cc-bccca3d88e30"
      },
      "outputs": [
        {
          "output_type": "stream",
          "name": "stdout",
          "text": [
            "Mounted at /content/drive\n"
          ]
        }
      ],
      "source": [
        "# RUN THIS COMMAND ONLY IF YOU USE GOOGLE COLAB.\n",
        "from google.colab import drive\n",
        "drive.mount('/content/drive')"
      ]
    },
    {
      "cell_type": "code",
      "source": [
        "# RUN THIS COMMAND ONLY IF YOU USE GOOGLE COLAB.\n",
        "%cd drive/MyDrive/TechLabs/project/flight_delay_kaggle"
      ],
      "metadata": {
        "id": "JMXih2HiqDu8",
        "colab": {
          "base_uri": "https://localhost:8080/"
        },
        "outputId": "f9f523f8-8300-40de-b503-1254a360a28b"
      },
      "id": "JMXih2HiqDu8",
      "execution_count": 2,
      "outputs": [
        {
          "output_type": "stream",
          "name": "stdout",
          "text": [
            "/content/drive/MyDrive/TechLabs/project/flight_delay_kaggle\n"
          ]
        }
      ]
    },
    {
      "cell_type": "markdown",
      "source": [
        "#Flight Delay Prediction\n",
        "\n",
        "Classification - Is the flight delayed acceptable or unacceptable?\n",
        "\n",
        "Environment setup: import libraries and load the dataset\n",
        "Data Analysis: understand the meaning and the predictive power of the variables\n",
        "Feature Selection: evaluate and keep only the most relevant variables\n",
        "Preprocessing: encode categorical variables and partition the dataset for training, tuning and testing\n",
        "Model design: train, tune and test various models\n",
        "Performance evaluation: evaluate the models based on their metrics\n",
        "Explainability: understand how the model produces results"
      ],
      "metadata": {
        "id": "CKB15dKPa-IJ"
      },
      "id": "CKB15dKPa-IJ"
    },
    {
      "cell_type": "code",
      "source": [],
      "metadata": {
        "id": "PospI41Ca9fM"
      },
      "id": "PospI41Ca9fM",
      "execution_count": null,
      "outputs": []
    },
    {
      "cell_type": "markdown",
      "source": [
        "**Environment Setup**"
      ],
      "metadata": {
        "id": "08gvwoVXbfh_"
      },
      "id": "08gvwoVXbfh_"
    },
    {
      "cell_type": "code",
      "source": [
        "!pip install us "
      ],
      "metadata": {
        "id": "rqhYoOHFBYYM"
      },
      "id": "rqhYoOHFBYYM",
      "execution_count": null,
      "outputs": []
    },
    {
      "cell_type": "code",
      "execution_count": 3,
      "id": "f4fdd5ef",
      "metadata": {
        "id": "f4fdd5ef"
      },
      "outputs": [],
      "source": [
        "#import us \n",
        "import datetime, warnings, scipy \n",
        "import pandas as pd\n",
        "import numpy as np\n",
        "import seaborn as sns\n",
        "import matplotlib as mpl\n",
        "import matplotlib.pyplot as plt\n",
        "import matplotlib.patches as patches\n",
        "from matplotlib.patches import ConnectionPatch\n",
        "from collections import OrderedDict\n",
        "from matplotlib.gridspec import GridSpec\n",
        "from sklearn import metrics, linear_model\n",
        "from sklearn.preprocessing import PolynomialFeatures, StandardScaler\n",
        "from sklearn.preprocessing import LabelEncoder, OneHotEncoder\n",
        "from sklearn.model_selection import train_test_split, cross_val_score, cross_val_predict\n",
        "from scipy.optimize import curve_fit\n",
        "plt.rcParams[\"patch.force_edgecolor\"] = True\n",
        "plt.style.use('fivethirtyeight')\n",
        "mpl.rc('patch', edgecolor = 'dimgray', linewidth=1)\n",
        "from IPython.core.interactiveshell import InteractiveShell\n",
        "InteractiveShell.ast_node_interactivity = \"last_expr\"\n",
        "pd.options.display.max_columns = 50\n",
        "%matplotlib inline\n",
        "warnings.filterwarnings(\"ignore\")\n",
        "from sklearn.linear_model import LogisticRegression\n",
        "from sklearn.metrics import accuracy_score, precision_score, recall_score, f1_score\n",
        "from sklearn.metrics import roc_curve, auc\n",
        "from sklearn.ensemble import RandomForestClassifier, ExtraTreesClassifier\n",
        "from xgboost import XGBClassifier\n",
        "from sklearn.metrics import confusion_matrix, classification_report\n",
        "from imblearn.over_sampling import SMOTE\n",
        "\n"
      ]
    },
    {
      "cell_type": "code",
      "source": [
        "#Loading the cleaned data\n",
        "df = pd.read_csv('/content/drive/MyDrive/TechLabs/project/flight_delay_kaggle/cleaned1_flights.csv')"
      ],
      "metadata": {
        "id": "WamvL3_pyvJG"
      },
      "id": "WamvL3_pyvJG",
      "execution_count": 4,
      "outputs": []
    },
    {
      "cell_type": "code",
      "source": [
        "# Understanding the column data\n",
        "print(df.info())\n",
        "print(f\"\\nShape: {df.shape}\")"
      ],
      "metadata": {
        "colab": {
          "base_uri": "https://localhost:8080/"
        },
        "id": "aoeMirkizFHh",
        "outputId": "3b139ed6-285d-4455-fef4-279016aca2e9"
      },
      "id": "aoeMirkizFHh",
      "execution_count": 6,
      "outputs": [
        {
          "output_type": "stream",
          "name": "stdout",
          "text": [
            "<class 'pandas.core.frame.DataFrame'>\n",
            "RangeIndex: 5231130 entries, 0 to 5231129\n",
            "Data columns (total 19 columns):\n",
            " #   Column                    Dtype \n",
            "---  ------                    ----- \n",
            " 0   MONTH                     int64 \n",
            " 1   DAY_OF_WEEK               int64 \n",
            " 2   AIRLINE                   object\n",
            " 3   ORIGIN_AIRPORT            object\n",
            " 4   DESTINATION_AIRPORT       object\n",
            " 5   SCHEDULED_DEPARTURE       object\n",
            " 6   DEPARTURE_TIME            object\n",
            " 7   DEPARTURE_DELAY           int64 \n",
            " 8   SCHEDULED_ARRIVAL         object\n",
            " 9   ARRIVAL_TIME              object\n",
            " 10  ARRIVAL_DELAY             int64 \n",
            " 11  DISTANCE                  int64 \n",
            " 12  AIR_TIME                  int64 \n",
            " 13  ELAPSED_TIME              int64 \n",
            " 14  SCHEDULED_DATE            object\n",
            " 15  DEPARTURE_TIME_HOUR       int64 \n",
            " 16  ARRIVAL_TIME_HOUR         int64 \n",
            " 17  SCHEDULED_DEPARTURE_HOUR  int64 \n",
            " 18  SCHEDULED_ARRIVAL_HOUR    int64 \n",
            "dtypes: int64(11), object(8)\n",
            "memory usage: 758.3+ MB\n",
            "None\n",
            "\n",
            "Shape: (5231130, 19)\n"
          ]
        }
      ]
    },
    {
      "cell_type": "markdown",
      "source": [
        "In this analysis, I am selecting only one month, January because of the computaional issues. "
      ],
      "metadata": {
        "id": "SKPr94w4VoO5"
      },
      "id": "SKPr94w4VoO5"
    },
    {
      "cell_type": "code",
      "source": [
        "months_to_check = [1, 2, 3]\n",
        "\n",
        "for month in months_to_check:\n",
        "    filtered_df = df[df['MONTH'] == month]\n",
        "    print(f\"Month {month}: total rows={len(filtered_df)}\")\n"
      ],
      "metadata": {
        "colab": {
          "base_uri": "https://localhost:8080/"
        },
        "id": "ZjKviw2HIVCS",
        "outputId": "311b3c49-9fd4-4ee1-aead-3eea1df23ca2"
      },
      "id": "ZjKviw2HIVCS",
      "execution_count": null,
      "outputs": [
        {
          "output_type": "stream",
          "name": "stdout",
          "text": [
            "Month 1: total rows=457013\n",
            "Month 2: total rows=407663\n",
            "Month 3: total rows=492138\n"
          ]
        }
      ]
    },
    {
      "cell_type": "code",
      "source": [
        "# filter dataframe to only include rows where month is January\n",
        "january_data = df.loc[df['MONTH'] == 1]"
      ],
      "metadata": {
        "id": "ROxd7Bk6Ib9H"
      },
      "id": "ROxd7Bk6Ib9H",
      "execution_count": 7,
      "outputs": []
    },
    {
      "cell_type": "code",
      "source": [
        "january_data.shape"
      ],
      "metadata": {
        "colab": {
          "base_uri": "https://localhost:8080/"
        },
        "id": "NPgUKI6YIHRH",
        "outputId": "30814596-9021-4520-e5e2-123fd9f4107e"
      },
      "id": "NPgUKI6YIHRH",
      "execution_count": null,
      "outputs": [
        {
          "output_type": "execute_result",
          "data": {
            "text/plain": [
              "(457013, 19)"
            ]
          },
          "metadata": {},
          "execution_count": 6
        }
      ]
    },
    {
      "cell_type": "code",
      "source": [
        "january_data.columns"
      ],
      "metadata": {
        "colab": {
          "base_uri": "https://localhost:8080/"
        },
        "id": "z01hJpRKI02z",
        "outputId": "85474a25-4476-45dd-e441-fea0f345881b"
      },
      "id": "z01hJpRKI02z",
      "execution_count": null,
      "outputs": [
        {
          "output_type": "execute_result",
          "data": {
            "text/plain": [
              "Index(['MONTH', 'DAY_OF_WEEK', 'AIRLINE', 'ORIGIN_AIRPORT',\n",
              "       'DESTINATION_AIRPORT', 'SCHEDULED_DEPARTURE', 'DEPARTURE_TIME',\n",
              "       'DEPARTURE_DELAY', 'SCHEDULED_ARRIVAL', 'ARRIVAL_TIME', 'ARRIVAL_DELAY',\n",
              "       'DISTANCE', 'AIR_TIME', 'ELAPSED_TIME', 'SCHEDULED_DATE',\n",
              "       'DEPARTURE_TIME_HOUR', 'ARRIVAL_TIME_HOUR', 'SCHEDULED_DEPARTURE_HOUR',\n",
              "       'SCHEDULED_ARRIVAL_HOUR'],\n",
              "      dtype='object')"
            ]
          },
          "metadata": {},
          "execution_count": 8
        }
      ]
    },
    {
      "cell_type": "code",
      "source": [
        "df['DEPARTURE_DELAY']"
      ],
      "metadata": {
        "colab": {
          "base_uri": "https://localhost:8080/"
        },
        "id": "e6brqfSaFC4k",
        "outputId": "456eb3f5-3cbd-4484-8344-e24c59a91c25"
      },
      "id": "e6brqfSaFC4k",
      "execution_count": null,
      "outputs": [
        {
          "output_type": "execute_result",
          "data": {
            "text/plain": [
              "0         -11\n",
              "1          -8\n",
              "2          -2\n",
              "3          -5\n",
              "4          -1\n",
              "           ..\n",
              "5231125    -4\n",
              "5231126    -4\n",
              "5231127    -9\n",
              "5231128    -6\n",
              "5231129    15\n",
              "Name: DEPARTURE_DELAY, Length: 5231130, dtype: int64"
            ]
          },
          "metadata": {},
          "execution_count": 8
        }
      ]
    },
    {
      "cell_type": "markdown",
      "source": [
        "In our data the arrival delay and departure delay consist negative and zero values corresponding early arrival and on time. However, for this project our goal is predicting acceptable delay and unacceptable delay therefore we are dropping negative and zeros from our delay rows. "
      ],
      "metadata": {
        "id": "OnYwZZlMWAGd"
      },
      "id": "OnYwZZlMWAGd"
    },
    {
      "cell_type": "code",
      "source": [
        "# Create a new dataframe without negative and zero values in 'DEPARTURE_DELAY' and 'ARRIVAL_DELAY' columns\n",
        "january_data = january_data[(january_data['DEPARTURE_DELAY'] > 0) & (january_data['ARRIVAL_DELAY'] > 0)]"
      ],
      "metadata": {
        "id": "MWVqmoOhOY0Q"
      },
      "id": "MWVqmoOhOY0Q",
      "execution_count": 8,
      "outputs": []
    },
    {
      "cell_type": "code",
      "source": [
        "january_data['DEPARTURE_DELAY'].unique()"
      ],
      "metadata": {
        "colab": {
          "base_uri": "https://localhost:8080/"
        },
        "id": "HEcrNPSIW4EM",
        "outputId": "9931920c-a460-47e3-c4c3-41d2bde6707f"
      },
      "id": "HEcrNPSIW4EM",
      "execution_count": 10,
      "outputs": [
        {
          "output_type": "execute_result",
          "data": {
            "text/plain": [
              "array([  25,   12,   21,   72,   95,   13,    4,  108,    2,   60,   58,\n",
              "          5,   53,   19,    7,    6,   43,   56,  148,   16,   55,   36,\n",
              "         73,   39,   10,   15,  213,  119,  111,   22,    1,   68,   11,\n",
              "        124,   27,   86,  102,    3,   54,   31,  131,    8,    9,   93,\n",
              "         57,  106,   38,   29,  136,   76,  364,  164,   44,   28,   80,\n",
              "         17,   67,   33,   32,   26,   61,   70,   34,   71,   47,   24,\n",
              "        328,   45,   83,  133,  117,   62,  107,   51,   42,   75,   74,\n",
              "         40,   82,   14,  205,   65,  100,  130,  171,   41,   96,  199,\n",
              "         48,   63,   18,   46,  236,   78,  128,   35,   20,  180,   30,\n",
              "         89,   59,   23,   85,   77,  113,   79,  264,  339,  165,  126,\n",
              "         49,  127,  143,  146,  193,   52,  157,  176,  112,   37,  105,\n",
              "         81,   50,  190,   69,  137,  188,  152,  167,  169,  492,   87,\n",
              "         90,  139,  138,  297,  336,  115,  114,  332,   88,  151,   64,\n",
              "        134,  163,  175,  243,  142,   66,  296,  123,  170,  310,   84,\n",
              "        120,  357,  248,  178,   92,   91,  122,  129,  149,  373,  260,\n",
              "        110,  511,  228,  289,  217,  305, 1190,  109,  135,  293,  101,\n",
              "        224,  161,  185,   98,  184,   99,  235,  116,  104,  121,  191,\n",
              "         94,  308,  309,   97,  204,  103,  280,  267,  216,  158,  251,\n",
              "        269,  186,  255,  179,  227,  159,  160,  118,  132,  150,  214,\n",
              "        276,  192,  286,  172,  125,  211,  183,  174,  155,  162,  860,\n",
              "        298,  780,  612,  389,  405,  154,  531,  241,  277,  739,  195,\n",
              "        376,  194,  189,  140,  751,  145,  201,  300,  223,  221,  144,\n",
              "        147,  249,  209,  366,  141,  230,  200,  177,  153,  394,  240,\n",
              "        196,  325,  206,  905,  362,  220,  275,  347,  208,  263,  247,\n",
              "        218,  242,  197,  233,  166,  203,  225,  315,  226,  187,  335,\n",
              "        885,  256,  753,  207,  516,  219,  391,  502,  431,  232,  390,\n",
              "        365,  202,  274,  253,  453,  408,  949,  321,  181,  523,  304,\n",
              "        231,  156,  400,  444,  182,  329,  284,  447,  672,  198,  317,\n",
              "        210, 1380,  303,  312,  261,  515,  352,  173,  291,  473,  281,\n",
              "        344,  318,  279,  290,  168,  258,  330,  234,  215,  239,  322,\n",
              "        557,  307,  916,  451,  442,  541,  254,  465,  266,  416,  399,\n",
              "        244,  282,  891,  326,  478,  886,  361,  500,  212,  383,  327,\n",
              "        252,  265,  649,  237,  222,  496,  350,  510,  458,  392,  461,\n",
              "        388,  306,  340,  883,  319,  438,  526,  331,  393, 1255,  320,\n",
              "        246, 1112,  259,  273,  299,  835,  423,  250, 1184,  342,  448,\n",
              "        450,  324,  238,  494,  370,  323,  384,  301,  271,  262,  420,\n",
              "        302,  245,  285,  272,  360,  229,  295,  851,  278,  333,  925,\n",
              "        742,  406,  314,  268,  294,  535,  592,  358,  497,  413,  410,\n",
              "        513,  552,  313,  830,  618,  337,  367,  412,  424,  466,  363,\n",
              "        343,  386,  257,  371,  443, 1046,  283,  351,  334,  455,  623,\n",
              "        456,  396,  419,  287,  710,  359,  538,  401,  562,  354,  440,\n",
              "        341,  288,  467,  499,  345,  378,  745,  929,  372,  270,  346,\n",
              "        638,  409,  702,  432,  740,  678,  749,  666,  508,  411,  311,\n",
              "        356,  349,  445,  338,  292,  375,  774,  838,  380,  382,  567,\n",
              "        527,  573,  931,  504,  434,  595,  506,  377, 1029,  316, 1450,\n",
              "        558,  537,  404,  628,  435,  559,  418,  437,  454,  427,  439,\n",
              "        457,  947,  353,  948, 1023,  646,  689,  746,  544,  549,  493,\n",
              "        430,  379,  462,  441,  355,  402, 1399,  446,  761,  726,  374,\n",
              "        397, 1070,  464,  574,  650,  532,  547,  604,  635,  475,  577,\n",
              "       1269,  470,  555,  625,  476,  368,  991,  449,  605,  536, 1604,\n",
              "        417,  415, 1140,  489,  566,  743,  495,  543,  348,  588,  603,\n",
              "        505,  477,  429, 1205,  482,  616,  381, 1457,  521,  395,  407,\n",
              "        498,  468,  474,  798,  932, 1988,  591,  509,  403,  601,  597,\n",
              "       1367,  679,  520,  694,  696, 1160,  674,  422,  867, 1551,  425,\n",
              "        480,  524,  414,  806, 1011,  985,  484,  398,  530,  731, 1003,\n",
              "       1210])"
            ]
          },
          "metadata": {},
          "execution_count": 10
        }
      ]
    },
    {
      "cell_type": "code",
      "source": [
        "january_data.shape"
      ],
      "metadata": {
        "colab": {
          "base_uri": "https://localhost:8080/"
        },
        "id": "tk0u9T56OofO",
        "outputId": "19785717-46b0-4da2-b9f2-d151a20b3a9a"
      },
      "id": "tk0u9T56OofO",
      "execution_count": 11,
      "outputs": [
        {
          "output_type": "execute_result",
          "data": {
            "text/plain": [
              "(130341, 19)"
            ]
          },
          "metadata": {},
          "execution_count": 11
        }
      ]
    },
    {
      "cell_type": "code",
      "source": [
        "january_data.columns"
      ],
      "metadata": {
        "colab": {
          "base_uri": "https://localhost:8080/"
        },
        "id": "oLbz824UXFxY",
        "outputId": "3200e258-7c40-485d-878a-37923803eecb"
      },
      "id": "oLbz824UXFxY",
      "execution_count": 12,
      "outputs": [
        {
          "output_type": "execute_result",
          "data": {
            "text/plain": [
              "Index(['MONTH', 'DAY_OF_WEEK', 'AIRLINE', 'ORIGIN_AIRPORT',\n",
              "       'DESTINATION_AIRPORT', 'SCHEDULED_DEPARTURE', 'DEPARTURE_TIME',\n",
              "       'DEPARTURE_DELAY', 'SCHEDULED_ARRIVAL', 'ARRIVAL_TIME', 'ARRIVAL_DELAY',\n",
              "       'DISTANCE', 'AIR_TIME', 'ELAPSED_TIME', 'SCHEDULED_DATE',\n",
              "       'DEPARTURE_TIME_HOUR', 'ARRIVAL_TIME_HOUR', 'SCHEDULED_DEPARTURE_HOUR',\n",
              "       'SCHEDULED_ARRIVAL_HOUR'],\n",
              "      dtype='object')"
            ]
          },
          "metadata": {},
          "execution_count": 12
        }
      ]
    },
    {
      "cell_type": "code",
      "source": [
        "january_cleaned = january_data[['DAY_OF_WEEK', 'AIRLINE', 'SCHEDULED_DEPARTURE_HOUR',\n",
        "       'SCHEDULED_ARRIVAL_HOUR', 'ARRIVAL_DELAY', 'ORIGIN_AIRPORT', 'DESTINATION_AIRPORT',\n",
        "       'DISTANCE', 'AIR_TIME', 'ELAPSED_TIME']]"
      ],
      "metadata": {
        "id": "Y5fIw783rvAX"
      },
      "id": "Y5fIw783rvAX",
      "execution_count": 13,
      "outputs": []
    },
    {
      "cell_type": "code",
      "source": [
        "(january_cleaned['ARRIVAL_DELAY']).value_counts()"
      ],
      "metadata": {
        "colab": {
          "base_uri": "https://localhost:8080/"
        },
        "id": "JbFDeZ0Y680J",
        "outputId": "f5893b6f-0185-4699-f3e8-a1f1ddc39dbf"
      },
      "id": "JbFDeZ0Y680J",
      "execution_count": null,
      "outputs": [
        {
          "output_type": "execute_result",
          "data": {
            "text/plain": [
              "1       3622\n",
              "2       3612\n",
              "4       3544\n",
              "5       3535\n",
              "3       3518\n",
              "        ... \n",
              "649        1\n",
              "681        1\n",
              "751        1\n",
              "679        1\n",
              "1235       1\n",
              "Name: ARRIVAL_DELAY, Length: 604, dtype: int64"
            ]
          },
          "metadata": {},
          "execution_count": 65
        }
      ]
    },
    {
      "cell_type": "markdown",
      "source": [
        "## Preprocessing for Classification"
      ],
      "metadata": {
        "id": "zNsqtI5Ake0y"
      },
      "id": "zNsqtI5Ake0y"
    },
    {
      "cell_type": "code",
      "source": [
        "# Count the number of values below 25\n",
        "count_below_25 = len(january_cleaned[january_cleaned['ARRIVAL_DELAY'] <= 25])\n",
        "# Count the number of values greater than 25\n",
        "count_above_25 = len(january_cleaned[january_cleaned['ARRIVAL_DELAY'] > 25])\n",
        "print(count_below_25, count_above_25)"
      ],
      "metadata": {
        "colab": {
          "base_uri": "https://localhost:8080/"
        },
        "id": "JQdC99ds5SPU",
        "outputId": "8dbebc0b-e934-4b68-d07f-3f5d2bc863fa"
      },
      "id": "JQdC99ds5SPU",
      "execution_count": 21,
      "outputs": [
        {
          "output_type": "stream",
          "name": "stdout",
          "text": [
            "68562 61779\n"
          ]
        }
      ]
    },
    {
      "cell_type": "code",
      "source": [
        "# Count the number of instances in each class\n",
        "count_below_25 = len(january_cleaned[january_cleaned['ARRIVAL_DELAY'] <= 25])\n",
        "count_above_25 = len(january_cleaned[january_cleaned['ARRIVAL_DELAY'] > 25])\n",
        "\n",
        "# Calculate the proportion of instances in each class\n",
        "acceptable_proportions = count_below_25 / len(january_cleaned)\n",
        "unacceptable_proportions = count_above_25 / len(january_cleaned)\n",
        "\n",
        "# Check if the classification is balanced\n",
        "if abs(acceptable_proportions - unacceptable_proportions) < 0.1:\n",
        "    print('The classification is balanced.')\n",
        "else:\n",
        "    print('The classification is imbalanced.')\n",
        "    \n",
        "print('Acceptable proportion:', acceptable_proportions)\n",
        "print('Unacceptable proportion:', unacceptable_proportions)\n"
      ],
      "metadata": {
        "colab": {
          "base_uri": "https://localhost:8080/"
        },
        "id": "-zr8dxVTb6Zx",
        "outputId": "cf653ba2-92a7-41e1-8df5-0f266975c12c"
      },
      "id": "-zr8dxVTb6Zx",
      "execution_count": 60,
      "outputs": [
        {
          "output_type": "stream",
          "name": "stdout",
          "text": [
            "The classification is balanced.\n",
            "Acceptable proportion: 0.526020208529933\n",
            "Unacceptable proportion: 0.47397979147006697\n"
          ]
        }
      ]
    },
    {
      "cell_type": "code",
      "source": [
        "import seaborn as sns\n",
        "import matplotlib.pyplot as plt\n",
        "\n",
        "# Count the number of instances in each class\n",
        "count_below_25 = len(january_cleaned[january_cleaned['ARRIVAL_DELAY'] <= 25])\n",
        "count_above_25 = len(january_cleaned[january_cleaned['ARRIVAL_DELAY'] > 25])\n",
        "\n",
        "# Calculate the proportion of instances in each class\n",
        "acceptable_proportions = count_below_25 / len(january_cleaned)\n",
        "unacceptable_proportions = count_above_25 / len(january_cleaned)\n",
        "\n",
        "# Create a bar chart\n",
        "labels = ['Acceptable', 'Unacceptable']\n",
        "proportions = [acceptable_proportions, unacceptable_proportions]\n",
        "sns.set_style('whitegrid')\n",
        "sns.set_palette('husl')\n",
        "plt.figure(figsize=(8,6))\n",
        "ax = sns.barplot(x=labels, y=proportions)\n",
        "plt.title('Proportion of Instances in Each Class')\n",
        "plt.xlabel('Class')\n",
        "plt.ylabel('Proportion')\n",
        "ax.set_ylim([0,1])\n",
        "for i in ax.patches:\n",
        "    ax.text(i.get_x()+0.35, i.get_height()-0.15, str(round(i.get_height(), 2)), fontsize=15, color='black')\n",
        "plt.grid(False)\n",
        "plt.show()\n",
        "plt.savefig(\"/content/drive/MyDrive/TechLabs/project/flight_delay_kaggle/final_report/proportion_instances\")"
      ],
      "metadata": {
        "colab": {
          "base_uri": "https://localhost:8080/",
          "height": 422
        },
        "id": "hnGO8kP3dCbd",
        "outputId": "389b6ce7-1b07-467c-ff0a-a060d93780dc"
      },
      "id": "hnGO8kP3dCbd",
      "execution_count": 78,
      "outputs": [
        {
          "output_type": "display_data",
          "data": {
            "text/plain": [
              "<Figure size 576x432 with 1 Axes>"
            ],
            "image/png": "[encoded data removed]"
          },
          "metadata": {}
        },
        {
          "output_type": "display_data",
          "data": {
            "text/plain": [
              "<Figure size 432x288 with 0 Axes>"
            ]
          },
          "metadata": {}
        }
      ]
    },
    {
      "cell_type": "code",
      "source": [
        "january_cleaned.shape"
      ],
      "metadata": {
        "colab": {
          "base_uri": "https://localhost:8080/"
        },
        "id": "X1jdJzi8zTnZ",
        "outputId": "742c820c-3593-45ac-ef01-9ee3d9bb2ef5"
      },
      "id": "X1jdJzi8zTnZ",
      "execution_count": null,
      "outputs": [
        {
          "output_type": "execute_result",
          "data": {
            "text/plain": [
              "(130338, 8)"
            ]
          },
          "metadata": {},
          "execution_count": 9
        }
      ]
    },
    {
      "cell_type": "code",
      "source": [
        "january_cleaned.info()"
      ],
      "metadata": {
        "colab": {
          "base_uri": "https://localhost:8080/"
        },
        "id": "T-hTjqLtKLYH",
        "outputId": "2562862d-19b9-4afe-ea2b-2e7ea8178cc1"
      },
      "id": "T-hTjqLtKLYH",
      "execution_count": 28,
      "outputs": [
        {
          "output_type": "stream",
          "name": "stdout",
          "text": [
            "<class 'pandas.core.frame.DataFrame'>\n",
            "Int64Index: 130341 entries, 20 to 457010\n",
            "Data columns (total 10 columns):\n",
            " #   Column                    Non-Null Count   Dtype \n",
            "---  ------                    --------------   ----- \n",
            " 0   DAY_OF_WEEK               130341 non-null  int64 \n",
            " 1   AIRLINE                   130341 non-null  object\n",
            " 2   SCHEDULED_DEPARTURE_HOUR  130341 non-null  int64 \n",
            " 3   SCHEDULED_ARRIVAL_HOUR    130341 non-null  int64 \n",
            " 4   ARRIVAL_DELAY             130341 non-null  int64 \n",
            " 5   ORIGIN_AIRPORT            130341 non-null  object\n",
            " 6   DESTINATION_AIRPORT       130341 non-null  object\n",
            " 7   DISTANCE                  130341 non-null  int64 \n",
            " 8   AIR_TIME                  130341 non-null  int64 \n",
            " 9   ELAPSED_TIME              130341 non-null  int64 \n",
            "dtypes: int64(7), object(3)\n",
            "memory usage: 10.9+ MB\n"
          ]
        }
      ]
    },
    {
      "cell_type": "markdown",
      "source": [
        "Encoding the categorical variables"
      ],
      "metadata": {
        "id": "_sqyo3O1i9ev"
      },
      "id": "_sqyo3O1i9ev"
    },
    {
      "cell_type": "code",
      "source": [
        "encoded_january = pd.get_dummies(january_cleaned, columns=['DAY_OF_WEEK', 'AIRLINE', 'SCHEDULED_DEPARTURE_HOUR', \n",
        "                                                           'SCHEDULED_ARRIVAL_HOUR', 'ORIGIN_AIRPORT', 'DESTINATION_AIRPORT'])"
      ],
      "metadata": {
        "id": "oLazj5oXFf8v"
      },
      "id": "oLazj5oXFf8v",
      "execution_count": 29,
      "outputs": []
    },
    {
      "cell_type": "code",
      "source": [
        "encoded_january.shape"
      ],
      "metadata": {
        "colab": {
          "base_uri": "https://localhost:8080/"
        },
        "id": "ZL00jyA7KlS1",
        "outputId": "fb3b44a6-818b-4cc4-facc-1a938328a046"
      },
      "id": "ZL00jyA7KlS1",
      "execution_count": 30,
      "outputs": [
        {
          "output_type": "execute_result",
          "data": {
            "text/plain": [
              "(130341, 696)"
            ]
          },
          "metadata": {},
          "execution_count": 30
        }
      ]
    },
    {
      "cell_type": "markdown",
      "source": [
        "Splitting the dataset into train, tuning and test data in proportion of 60% - 20% -20% respectively. "
      ],
      "metadata": {
        "id": "f8xZRcchjGCc"
      },
      "id": "f8xZRcchjGCc"
    },
    {
      "cell_type": "code",
      "source": [
        "\n",
        "\n",
        "# Split the data into training and temporary sets\n",
        "train_data_jan, temp_data = train_test_split(encoded_january, test_size=0.4, random_state=42)\n",
        "\n",
        "# Split the temporary set into tuning and test sets\n",
        "tuning_data_jan, test_data_jan = train_test_split(temp_data, test_size=0.5, random_state=42)\n",
        "\n",
        "# Check the size of each dataset\n",
        "print(\"Training data size:\", len(train_data_jan))\n",
        "print(\"Tuning data size:\", len(tuning_data_jan))\n",
        "print(\"Test data size:\", len(test_data_jan))\n",
        "\n"
      ],
      "metadata": {
        "id": "NyN9TffRAXAY",
        "colab": {
          "base_uri": "https://localhost:8080/"
        },
        "outputId": "d65e951a-566c-438a-a13d-8a0892f227c8"
      },
      "id": "NyN9TffRAXAY",
      "execution_count": 31,
      "outputs": [
        {
          "output_type": "stream",
          "name": "stdout",
          "text": [
            "Training data size: 78204\n",
            "Tuning data size: 26068\n",
            "Test data size: 26069\n"
          ]
        }
      ]
    },
    {
      "cell_type": "code",
      "source": [],
      "metadata": {
        "id": "uhqWWFVItVlI"
      },
      "id": "uhqWWFVItVlI",
      "execution_count": null,
      "outputs": []
    },
    {
      "cell_type": "markdown",
      "source": [
        "The code below first defines a function get_delay_class that maps arrival delay to either 'acceptable_delay' or 'unacceptable_delay'. This function is applied to the 'ARRIVAL_DELAY' column of the training, tuning, and test data to create a new column 'DELAY_CLASS'. Then, the features (all columns except 'ARRIVAL_DELAY' and 'DELAY_CLASS') and target variables ('DELAY_CLASS') are separated for the training, tuning, and test data.\n"
      ],
      "metadata": {
        "id": "c-ekAnLsjhEB"
      },
      "id": "c-ekAnLsjhEB"
    },
    {
      "cell_type": "code",
      "source": [
        "# Define the delay classes\n",
        "def get_delay_class(arrival_delay):\n",
        "    if arrival_delay <= 25:\n",
        "        return 'acceptable_delay'\n",
        "    else:\n",
        "        return 'unacceptable_delay'\n",
        "\n",
        "# Apply the function to create the DELAY_CLASS column\n",
        "train_data_jan['DELAY_CLASS'] = train_data_jan['ARRIVAL_DELAY'].apply(get_delay_class)\n",
        "tuning_data_jan['DELAY_CLASS'] = tuning_data_jan['ARRIVAL_DELAY'].apply(get_delay_class)\n",
        "test_data_jan['DELAY_CLASS'] = test_data_jan['ARRIVAL_DELAY'].apply(get_delay_class)\n",
        "\n",
        "# Separate the features and target variables\n",
        "X_train = train_data_jan.drop(['ARRIVAL_DELAY', 'DELAY_CLASS'], axis=1)\n",
        "y_train = train_data_jan['DELAY_CLASS']\n",
        "X_tuning = tuning_data_jan.drop(['ARRIVAL_DELAY', 'DELAY_CLASS'], axis=1)\n",
        "y_tuning = tuning_data_jan['DELAY_CLASS']\n",
        "X_test = test_data_jan.drop(['ARRIVAL_DELAY', 'DELAY_CLASS'], axis=1)\n",
        "y_test = test_data_jan['DELAY_CLASS']"
      ],
      "metadata": {
        "id": "YbCjhQO5_GW-"
      },
      "id": "YbCjhQO5_GW-",
      "execution_count": 64,
      "outputs": []
    },
    {
      "cell_type": "code",
      "source": [
        "from sklearn.preprocessing import LabelEncoder\n",
        "from sklearn.tree import DecisionTreeClassifier\n",
        "\n",
        "# Encode the target variable as integers\n",
        "le = LabelEncoder()\n",
        "y_train_le = le.fit_transform(train_data_jan['DELAY_CLASS'])\n",
        "y_tuning_le = le.transform(tuning_data_jan['DELAY_CLASS'])\n",
        "y_test_le = le.transform(test_data_jan['DELAY_CLASS'])\n",
        "# Apply SMOTE to resample the imbalanced data\n",
        "#smote = SMOTE(random_state=42)\n",
        "#X_train_resampled, y_train_resampled = smote.fit_resample(X_train, y_train_le)"
      ],
      "metadata": {
        "id": "VAK6-wnquIwu"
      },
      "id": "VAK6-wnquIwu",
      "execution_count": 65,
      "outputs": []
    },
    {
      "cell_type": "code",
      "source": [],
      "metadata": {
        "id": "PM1CknQQGJUQ"
      },
      "id": "PM1CknQQGJUQ",
      "execution_count": null,
      "outputs": []
    },
    {
      "cell_type": "markdown",
      "source": [
        "## Modeling Different Classifiers"
      ],
      "metadata": {
        "id": "v-OIAnn3lIsg"
      },
      "id": "v-OIAnn3lIsg"
    },
    {
      "cell_type": "markdown",
      "source": [
        "**Logistic Regression**\n",
        "\n",
        "This code performs binary classification of flight arrival delays into two classes: acceptable_delay and unacceptable_delay, using logistic regression.\n",
        "\n",
        "A logistic regression model is fitted on the trained data using fit method.\n",
        "\n",
        "The trained model is used to predict the delay class on the tuning and test data, and the performance of the model is evaluated using various metrics: accuracy, precision, recall, and F1-score. These metrics are calculated using accuracy_score, precision_score, recall_score, and f1_score functions from the sklearn.metrics module.\n",
        "\n",
        "Finally, a confusion matrix is created for the tuning data using confusion_matrix function from the sklearn.metrics module, and a heatmap is plotted using sns.heatmap. Also, a classification report is created using classification_report function from the sklearn.metrics module. The classification report provides precision, recall, and F1-score for each class as well as the average values."
      ],
      "metadata": {
        "id": "IK5WKEE2Z3pe"
      },
      "id": "IK5WKEE2Z3pe"
    },
    {
      "cell_type": "code",
      "source": [
        "from sklearn.metrics import confusion_matrix, classification_report\n",
        "\n",
        "# Fit logistic regression model on the resampled data\n",
        "lr = LogisticRegression()\n",
        "lr.fit(X_train, y_train)\n",
        "\n",
        "# Use the trained model to predict the delay class on the tuning and test data\n",
        "y_tuning_pred = lr.predict(X_tuning)\n",
        "y_test_pred = lr.predict(X_test)\n",
        "\n",
        "# Evaluate the performance of the model on the tuning and test data\n",
        "print('Tuning data performance:')\n",
        "print('Accuracy:', accuracy_score(y_tuning, y_tuning_pred))\n",
        "print('Precision:', precision_score(y_tuning, y_tuning_pred, average='weighted'))\n",
        "print('Recall:', recall_score(y_tuning, y_tuning_pred, average='weighted'))\n",
        "print('F1-score:', f1_score(y_tuning, y_tuning_pred, average='weighted'))\n",
        "print('-------------------')\n",
        "print('Test data performance:')\n",
        "print('Accuracy:', accuracy_score(y_test, y_test_pred))\n",
        "print('Precision:', precision_score(y_test, y_test_pred, average='weighted'))\n",
        "print('Recall:', recall_score(y_test, y_test_pred, average='weighted'))\n",
        "print('F1-score:', f1_score(y_test, y_test_pred, average='weighted'))\n",
        "\n",
        "# Create a confusion matrix for the tune data\n",
        "cm_tuning_lr = confusion_matrix(y_tuning, y_tuning_pred)\n",
        "sns.heatmap(cm_tuning_lr, annot=True, cmap='Blues')\n",
        "plt.xlabel('Predicted labels')\n",
        "plt.ylabel('True labels')\n",
        "plt.title('Confusion Matrix on tune data')\n",
        "plt.show()\n",
        "#plt.savefig(\"/content/drive/MyDrive/TechLabs/project/flight_delay_kaggle/final_report/lr_confusion_matrix\")\n",
        "\n",
        "# Create a classification report for the tune data\n",
        "report = classification_report(y_tuning, y_tuning_pred)\n",
        "print(report)\n",
        "print(cm_tuning_lr)"
      ],
      "metadata": {
        "colab": {
          "base_uri": "https://localhost:8080/",
          "height": 678
        },
        "id": "9f7_1dbGBJeD",
        "outputId": "aca12370-66be-4886-bdf4-59b3dc207407"
      },
      "id": "9f7_1dbGBJeD",
      "execution_count": 94,
      "outputs": [
        {
          "output_type": "stream",
          "name": "stdout",
          "text": [
            "Tuning data performance:\n",
            "Accuracy: 0.6176538284486727\n",
            "Precision: 0.6188560455827593\n",
            "Recall: 0.6176538284486727\n",
            "F1-score: 0.611695440840709\n",
            "-------------------\n",
            "Test data performance:\n",
            "Accuracy: 0.6149449537765161\n",
            "Precision: 0.6151374686512602\n",
            "Recall: 0.6149449537765161\n",
            "F1-score: 0.6092789964514979\n"
          ]
        },
        {
          "output_type": "display_data",
          "data": {
            "text/plain": [
              "<Figure size 432x288 with 2 Axes>"
            ],
            "image/png": "[encoded data removed]"
          },
          "metadata": {}
        },
        {
          "output_type": "stream",
          "name": "stdout",
          "text": [
            "                    precision    recall  f1-score   support\n",
            "\n",
            "  acceptable_delay       0.61      0.73      0.67     13661\n",
            "unacceptable_delay       0.63      0.49      0.55     12407\n",
            "\n",
            "          accuracy                           0.62     26068\n",
            "         macro avg       0.62      0.61      0.61     26068\n",
            "      weighted avg       0.62      0.62      0.61     26068\n",
            "\n",
            "[[10003  3658]\n",
            " [ 6309  6098]]\n"
          ]
        }
      ]
    },
    {
      "cell_type": "code",
      "source": [
        "\n",
        "# Create a confusion matrix for the test data\n",
        "cm_test_lr = confusion_matrix(y_test, y_test_pred)\n",
        "sns.heatmap(cm_test_lr, annot=True, cmap='Blues')\n",
        "plt.xlabel('Predicted labels')\n",
        "plt.ylabel('True labels')\n",
        "plt.title('Confusion Matrix on test data')\n",
        "plt.savefig(\"/content/drive/MyDrive/TechLabs/project/flight_delay_kaggle/final_report/lr_confusion_matrix\")\n",
        "plt.show()\n"
      ],
      "metadata": {
        "colab": {
          "base_uri": "https://localhost:8080/",
          "height": 296
        },
        "id": "hPQM83kv92gZ",
        "outputId": "c7157027-bf32-4522-aa51-eaeaee3ea7bb"
      },
      "id": "hPQM83kv92gZ",
      "execution_count": 96,
      "outputs": [
        {
          "output_type": "display_data",
          "data": {
            "text/plain": [
              "<Figure size 432x288 with 2 Axes>"
            ],
            "image/png": "[encoded data removed]"
          },
          "metadata": {}
        }
      ]
    },
    {
      "cell_type": "markdown",
      "source": [
        "A confusion matrix is a table that shows the number of true positives, false positives, true negatives, and false negatives for each class. "
      ],
      "metadata": {
        "id": "errcDzHpCO1l"
      },
      "id": "errcDzHpCO1l"
    },
    {
      "cell_type": "markdown",
      "source": [
        "Based on the given numbers, the model's performance on both tuning and test data is similar, with slightly higher performance on the tuning data. The accuracy of the model on the tuning data is 0.6176 and on the test data is 0.6149. This suggests that the model is not overfitting the data and is performing reasonably well on unseen data.\n",
        "\n",
        "The precision and recall values for the two classes (acceptable_delay and unacceptable_delay) are similar, with slightly higher values for acceptable_delay. The precision of the model on the tuning data is 0.6189 and on the test data is 0.6151. The recall of the model on the tuning data and test data is the same at 0.6177.\n",
        "\n",
        "The F1-score of the model on the tuning data is 0.6117 and on the test data is 0.6093, which suggests that the model is performing relatively well on both tuning and test data.\n",
        "\n",
        "Looking at the confusion matrix, we can see that the model is better at predicting acceptable_delay with 10003 correct predictions out of 13661 instances. However, the model is not performing as well at predicting unacceptable_delay, with only 6098 correct predictions out of 12407 instances.\n",
        "\n",
        "Overall, the model's performance is decent but could potentially be improved, especially for the unacceptable_delay class."
      ],
      "metadata": {
        "id": "Prt95Wo7nNX_"
      },
      "id": "Prt95Wo7nNX_"
    },
    {
      "cell_type": "code",
      "source": [],
      "metadata": {
        "id": "nrjF6dKWYjyo"
      },
      "id": "nrjF6dKWYjyo",
      "execution_count": null,
      "outputs": []
    },
    {
      "cell_type": "markdown",
      "source": [
        "**Decision Tree Classifier**"
      ],
      "metadata": {
        "id": "UJOev-5raUhF"
      },
      "id": "UJOev-5raUhF"
    },
    {
      "cell_type": "code",
      "source": [
        "from sklearn.tree import DecisionTreeClassifier\n",
        "from sklearn.metrics import accuracy_score, precision_score, recall_score, f1_score\n",
        "\n",
        "\n",
        "# Create the decision tree model\n",
        "dt = DecisionTreeClassifier(random_state=42)\n",
        "\n",
        "# Train the model\n",
        "dt.fit(X_train, y_train)\n",
        "\n",
        "# Predict on the tuning data\n",
        "y_tuning_pred_dt = dt.predict(X_tuning)\n",
        "# Predict on the testing data\n",
        "y_test_pred_dt = dt.predict(X_test)\n",
        "\n",
        "# Evaluate the performance of the model on the tuning \n",
        "print('Tuning data performance of decision tree model:')\n",
        "print('Accuracy:', accuracy_score(y_tuning, y_tuning_pred_dt))\n",
        "print('Precision:', precision_score(y_tuning, y_tuning_pred_dt, average='weighted'))\n",
        "print('Recall:', recall_score(y_tuning, y_tuning_pred_dt, average='weighted'))\n",
        "print('F1-score:', f1_score(y_tuning, y_tuning_pred_dt, average='weighted'))\n",
        "\n",
        "\n",
        "\n",
        "\n",
        "# Evaluate the performance of the model on the testing \n",
        "print('----------------------------------\\n')\n",
        "print('Test data performance of decision tree model:')\n",
        "print('Accuracy:', accuracy_score(y_test, y_test_pred_dt))\n",
        "print('Precision:', precision_score(y_test, y_test_pred_dt, average='weighted'))\n",
        "print('Recall:', recall_score(y_test, y_test_pred_dt, average='weighted'))\n",
        "print('F1-score:', f1_score(y_test, y_test_pred_dt, average='weighted'))"
      ],
      "metadata": {
        "colab": {
          "base_uri": "https://localhost:8080/"
        },
        "id": "FhmD2UQFExWz",
        "outputId": "daef6b87-26ec-4aee-a6b6-cd2fa4a5fead"
      },
      "id": "FhmD2UQFExWz",
      "execution_count": 67,
      "outputs": [
        {
          "output_type": "stream",
          "name": "stdout",
          "text": [
            "Tuning data performance of decision tree model:\n",
            "Accuracy: 0.5602270983581402\n",
            "Precision: 0.5600803287837357\n",
            "Recall: 0.5602270983581402\n",
            "F1-score: 0.5601467447575882\n",
            "----------------------------------\n",
            "\n",
            "Test data performance of decision tree model:\n",
            "Accuracy: 0.5644635390693927\n",
            "Precision: 0.5645898045056146\n",
            "Recall: 0.5644635390693927\n",
            "F1-score: 0.5645228374606422\n"
          ]
        }
      ]
    },
    {
      "cell_type": "code",
      "source": [
        "from sklearn.metrics import confusion_matrix, classification_report\n",
        "# Define the class names\n",
        "class_names = ['Acceptable_delay', 'Unacceptable_delay']\n",
        "\n",
        "# Create a confusion matrix for the tune data\n",
        "cm_tuning_dt = confusion_matrix(y_tuning, y_tuning_pred_dt)\n",
        "sns.heatmap(cm_tuning_dt, annot=True, cmap='Blues', xticklabels=class_names, yticklabels=class_names)\n",
        "plt.xlabel('Predicted labels')\n",
        "plt.ylabel('True labels')\n",
        "plt.title('Confusion Matrix on tune data')\n",
        "#plt.savefig(\"/content/drive/MyDrive/TechLabs/project/flight_delay_kaggle/final_report/dt_confusion_matrix\")\n",
        "plt.show()\n",
        "\n",
        "# Create a classification report for the tune data\n",
        "report = classification_report(y_tuning, y_tuning_pred_dt)\n",
        "print('Decision tree report on tune data: \\n',report)\n",
        "print('confusion_matrix: \\n',cm_tuning_dt)"
      ],
      "metadata": {
        "colab": {
          "base_uri": "https://localhost:8080/",
          "height": 523
        },
        "id": "kA4Up6rKExKC",
        "outputId": "1a316d27-9e19-4f36-915e-a79986800756"
      },
      "id": "kA4Up6rKExKC",
      "execution_count": 71,
      "outputs": [
        {
          "output_type": "display_data",
          "data": {
            "text/plain": [
              "<Figure size 432x288 with 2 Axes>"
            ],
            "image/png": "[encoded data removed]"
          },
          "metadata": {}
        },
        {
          "output_type": "stream",
          "name": "stdout",
          "text": [
            "Decision tree report on tune data: \n",
            "                     precision    recall  f1-score   support\n",
            "\n",
            "  acceptable_delay       0.58      0.58      0.58     13661\n",
            "unacceptable_delay       0.54      0.53      0.54     12407\n",
            "\n",
            "          accuracy                           0.56     26068\n",
            "         macro avg       0.56      0.56      0.56     26068\n",
            "      weighted avg       0.56      0.56      0.56     26068\n",
            "\n",
            "confusion_matrix: \n",
            " [[7975 5686]\n",
            " [5778 6629]]\n"
          ]
        }
      ]
    },
    {
      "cell_type": "code",
      "source": [
        "from sklearn.metrics import confusion_matrix, classification_report\n",
        "# Create a confusion matrix for the test data\n",
        "cm_test_dt = confusion_matrix(y_test, y_test_pred_dt)\n",
        "sns.heatmap(cm_test_dt, annot=True, cmap='Blues')\n",
        "plt.xlabel('Predicted labels')\n",
        "plt.ylabel('True labels')\n",
        "plt.title('Confusion Matrix on test data')\n",
        "plt.savefig(\"/content/drive/MyDrive/TechLabs/project/flight_delay_kaggle/final_report/dt_confusion_matrix\")\n",
        "plt.show()\n",
        "\n",
        "# Create a classification report for the test data\n",
        "report = classification_report(y_test, y_test_pred_dt)\n",
        "print('Decision tree report on test data: \\n',report)\n",
        "print('confusion_matrix: \\n',cm_test_dt)"
      ],
      "metadata": {
        "id": "C2tMq5keBJRe",
        "colab": {
          "base_uri": "https://localhost:8080/",
          "height": 522
        },
        "outputId": "30972b94-b667-4d23-8129-836cd228eed0"
      },
      "id": "C2tMq5keBJRe",
      "execution_count": 90,
      "outputs": [
        {
          "output_type": "display_data",
          "data": {
            "text/plain": [
              "<Figure size 432x288 with 2 Axes>"
            ],
            "image/png": "[encoded data removed]"
          },
          "metadata": {}
        },
        {
          "output_type": "stream",
          "name": "stdout",
          "text": [
            "Decision tree report on test data: \n",
            "                     precision    recall  f1-score   support\n",
            "\n",
            "  acceptable_delay       0.59      0.58      0.59     13747\n",
            "unacceptable_delay       0.54      0.54      0.54     12322\n",
            "\n",
            "          accuracy                           0.56     26069\n",
            "         macro avg       0.56      0.56      0.56     26069\n",
            "      weighted avg       0.56      0.56      0.56     26069\n",
            "\n",
            "confusion_matrix: \n",
            " [[8036 5711]\n",
            " [5643 6679]]\n"
          ]
        }
      ]
    },
    {
      "cell_type": "markdown",
      "source": [
        "**Random Forest**"
      ],
      "metadata": {
        "id": "1GiddZ_krAFO"
      },
      "id": "1GiddZ_krAFO"
    },
    {
      "cell_type": "code",
      "source": [
        "from sklearn.ensemble import RandomForestClassifier\n",
        "# Create a Random Forest classifier object\n",
        "rf_clf = RandomForestClassifier(random_state=42)\n",
        "\n",
        "# Fit the model on resampled data\n",
        "rf_clf.fit(X_train, y_train)\n",
        "\n",
        "\n",
        "# Use the trained model to predict the delay class on the tuning and test data\n",
        "y_tuning_pred_clf = rf_clf.predict(X_tuning)\n",
        "y_test_pred_clf = rf_clf.predict(X_test)\n",
        "\n",
        "# Evaluate the performance of the model on the tuning and test data\n",
        "print('Tuning data performance:')\n",
        "print('Accuracy:', accuracy_score(y_tuning, y_tuning_pred_clf))\n",
        "print('Precision:', precision_score(y_tuning, y_tuning_pred_clf, average='weighted'))\n",
        "print('Recall:', recall_score(y_tuning, y_tuning_pred_clf, average='weighted'))\n",
        "print('F1-score:', f1_score(y_tuning, y_tuning_pred_clf, average='weighted'))\n",
        "print('-------------------\\n')\n",
        "print('Test data performance:')\n",
        "print('Accuracy:', accuracy_score(y_test, y_test_pred_clf))\n",
        "print('Precision:', precision_score(y_test, y_test_pred_clf, average='weighted'))\n",
        "print('Recall:', recall_score(y_test, y_test_pred_clf, average='weighted'))\n",
        "print('F1-score:', f1_score(y_test, y_test_pred_clf, average='weighted'))\n",
        "\n",
        "# Create a confusion matrix for the tune data\n",
        "cm_tuning_clf = confusion_matrix(y_tuning, y_tuning_pred_clf)\n",
        "sns.heatmap(cm_tuning_clf, annot=True, cmap='Blues')\n",
        "plt.xlabel('Predicted labels')\n",
        "plt.ylabel('True labels')\n",
        "plt.title('Confusion Matrix on tune data')\n",
        "#plt.savefig(\"/content/drive/MyDrive/TechLabs/project/flight_delay_kaggle/final_report/rf_confusion_matrix\")\n",
        "plt.show()\n",
        "\n",
        "# Create a classification report for the tune data\n",
        "report = classification_report(y_tuning, y_tuning_pred_clf)\n",
        "print(report)\n",
        "print(cm_tuning_clf)"
      ],
      "metadata": {
        "colab": {
          "base_uri": "https://localhost:8080/",
          "height": 695
        },
        "id": "6kqRjsa4q_bx",
        "outputId": "8261117a-c1e3-4bb7-ebe0-135b38788739"
      },
      "id": "6kqRjsa4q_bx",
      "execution_count": 74,
      "outputs": [
        {
          "output_type": "stream",
          "name": "stdout",
          "text": [
            "Tuning data performance:\n",
            "Accuracy: 0.5867346938775511\n",
            "Precision: 0.5855766306867032\n",
            "Recall: 0.5867346938775511\n",
            "F1-score: 0.584533482296282\n",
            "-------------------\n",
            "\n",
            "Test data performance:\n",
            "Accuracy: 0.5891288503586636\n",
            "Precision: 0.58773343037447\n",
            "Recall: 0.5891288503586636\n",
            "F1-score: 0.5869061225431291\n"
          ]
        },
        {
          "output_type": "display_data",
          "data": {
            "text/plain": [
              "<Figure size 432x288 with 2 Axes>"
            ],
            "image/png": "[encoded data removed]"
          },
          "metadata": {}
        },
        {
          "output_type": "stream",
          "name": "stdout",
          "text": [
            "                    precision    recall  f1-score   support\n",
            "\n",
            "  acceptable_delay       0.60      0.66      0.62     13661\n",
            "unacceptable_delay       0.57      0.51      0.54     12407\n",
            "\n",
            "          accuracy                           0.59     26068\n",
            "         macro avg       0.59      0.58      0.58     26068\n",
            "      weighted avg       0.59      0.59      0.58     26068\n",
            "\n",
            "[[8958 4703]\n",
            " [6070 6337]]\n"
          ]
        }
      ]
    },
    {
      "cell_type": "code",
      "source": [
        "# Create a confusion matrix for the test data\n",
        "cm_test_clf = confusion_matrix(y_test, y_test_pred_clf)\n",
        "sns.heatmap(cm_test_clf, annot=True, cmap='Blues')\n",
        "plt.xlabel('Predicted labels')\n",
        "plt.ylabel('True labels')\n",
        "plt.title('Confusion Matrix on test data')\n",
        "plt.savefig(\"/content/drive/MyDrive/TechLabs/project/flight_delay_kaggle/final_report/rf_confusion_matrix\")\n",
        "plt.show()\n"
      ],
      "metadata": {
        "colab": {
          "base_uri": "https://localhost:8080/",
          "height": 296
        },
        "id": "ovu87O5Z_9ph",
        "outputId": "a6dadd45-c53b-4d16-8625-bfef1e1bd2a7"
      },
      "id": "ovu87O5Z_9ph",
      "execution_count": 91,
      "outputs": [
        {
          "output_type": "display_data",
          "data": {
            "text/plain": [
              "<Figure size 432x288 with 2 Axes>"
            ],
            "image/png": "[encoded data removed]"
          },
          "metadata": {}
        }
      ]
    },
    {
      "cell_type": "markdown",
      "source": [
        "**Extra Tree Classifier**"
      ],
      "metadata": {
        "id": "nmFfFT1r_RGu"
      },
      "id": "nmFfFT1r_RGu"
    },
    {
      "cell_type": "code",
      "source": [
        "from sklearn.ensemble import ExtraTreesClassifier\n",
        "# Create an ExtraTreeClassifier object\n",
        "etc_clf = ExtraTreesClassifier(random_state=42)\n",
        "\n",
        "# Fit the model on resampled data\n",
        "etc_clf.fit(X_train, y_train)\n",
        "\n",
        "# Use the trained model to predict the delay class on the tuning and test data\n",
        "y_tuning_pred_etc = etc_clf.predict(X_tuning)\n",
        "y_test_pred_etc = etc_clf.predict(X_test)\n",
        "\n",
        "# Evaluate the performance of the model on the tuning and test data\n",
        "print('Tuning data performance:')\n",
        "print('Accuracy:', accuracy_score(y_tuning, y_tuning_pred_etc))\n",
        "print('Precision:', precision_score(y_tuning, y_tuning_pred_etc, average='weighted'))\n",
        "print('Recall:', recall_score(y_tuning, y_tuning_pred_etc, average='weighted'))\n",
        "print('F1-score:', f1_score(y_tuning, y_tuning_pred_etc, average='weighted'))\n",
        "print('-------------------')\n",
        "print('Test data performance:')\n",
        "print('Accuracy:', accuracy_score(y_test, y_test_pred_etc))\n",
        "print('Precision:', precision_score(y_test, y_test_pred_etc, average='weighted'))\n",
        "print('Recall:', recall_score(y_test, y_test_pred_etc, average='weighted'))\n",
        "print('F1-score:', f1_score(y_test, y_test_pred_etc, average='weighted'))\n",
        "\n",
        "# Create a confusion matrix for the tune data\n",
        "cm_tuning_etc = confusion_matrix(y_tuning, y_tuning_pred_etc)\n",
        "sns.heatmap(cm_tuning_etc, annot=True, cmap='Blues')\n",
        "plt.xlabel('Predicted labels')\n",
        "plt.ylabel('True labels')\n",
        "plt.title('Confusion Matrix on tune data')\n",
        "#plt.savefig(\"/content/drive/MyDrive/TechLabs/project/flight_delay_kaggle/final_report/etc_confusion_matrix\")\n",
        "plt.show()\n",
        "\n",
        "# Create a classification report for the tune data\n",
        "report = classification_report(y_tuning, y_tuning_pred_etc)\n",
        "print(report)\n",
        "print(cm_tuning_etc)"
      ],
      "metadata": {
        "colab": {
          "base_uri": "https://localhost:8080/",
          "height": 678
        },
        "id": "xj6krH3kv4Vg",
        "outputId": "18418bf8-0aa0-40af-a5ee-7118ceed543e"
      },
      "id": "xj6krH3kv4Vg",
      "execution_count": 75,
      "outputs": [
        {
          "output_type": "stream",
          "name": "stdout",
          "text": [
            "Tuning data performance:\n",
            "Accuracy: 0.5677075341414761\n",
            "Precision: 0.5665798529302977\n",
            "Recall: 0.5677075341414761\n",
            "F1-score: 0.5664677713320939\n",
            "-------------------\n",
            "Test data performance:\n",
            "Accuracy: 0.571291572365645\n",
            "Precision: 0.5700263825009049\n",
            "Recall: 0.571291572365645\n",
            "F1-score: 0.5700221848332728\n"
          ]
        },
        {
          "output_type": "display_data",
          "data": {
            "text/plain": [
              "<Figure size 432x288 with 2 Axes>"
            ],
            "image/png": "[encoded data removed]"
          },
          "metadata": {}
        },
        {
          "output_type": "stream",
          "name": "stdout",
          "text": [
            "                    precision    recall  f1-score   support\n",
            "\n",
            "  acceptable_delay       0.58      0.62      0.60     13661\n",
            "unacceptable_delay       0.55      0.51      0.53     12407\n",
            "\n",
            "          accuracy                           0.57     26068\n",
            "         macro avg       0.57      0.57      0.56     26068\n",
            "      weighted avg       0.57      0.57      0.57     26068\n",
            "\n",
            "[[8476 5185]\n",
            " [6084 6323]]\n"
          ]
        }
      ]
    },
    {
      "cell_type": "code",
      "source": [
        "# Create a confusion matrix for the tune data\n",
        "cm_test_etc = confusion_matrix(y_test, y_test_pred_etc)\n",
        "sns.heatmap(cm_test_etc, annot=True, cmap='Blues')\n",
        "plt.xlabel('Predicted labels')\n",
        "plt.ylabel('True labels')\n",
        "plt.title('Confusion Matrix on test data')\n",
        "plt.savefig(\"/content/drive/MyDrive/TechLabs/project/flight_delay_kaggle/final_report/etc_confusion_matrix\")\n",
        "plt.show()"
      ],
      "metadata": {
        "colab": {
          "base_uri": "https://localhost:8080/",
          "height": 296
        },
        "id": "3iVS479tANC4",
        "outputId": "105ed3a9-4c91-437b-cf07-fc935d31efc6"
      },
      "id": "3iVS479tANC4",
      "execution_count": 92,
      "outputs": [
        {
          "output_type": "display_data",
          "data": {
            "text/plain": [
              "<Figure size 432x288 with 2 Axes>"
            ],
            "image/png": "[encoded data removed]"
          },
          "metadata": {}
        }
      ]
    },
    {
      "cell_type": "markdown",
      "source": [
        "**Gradient Boosting Classifier (XGBoost)**"
      ],
      "metadata": {
        "id": "af4uMpVD5MiZ"
      },
      "id": "af4uMpVD5MiZ"
    },
    {
      "cell_type": "code",
      "source": [
        "import xgboost as xgb\n",
        "\n",
        "# Create XGBoost classifier object\n",
        "xgb_clf = xgb.XGBClassifier()\n",
        "\n",
        "# Fit the model on training data\n",
        "xgb_clf.fit(X_train, y_train_le)\n",
        "# Use the trained classifier to predict the delay class on the tuning and test data\n",
        "y_tuning_pred_xgb = xgb_clf.predict(X_tuning)\n",
        "y_test_pred_xgb = xgb_clf.predict(X_test)\n",
        "\n",
        "# Evaluate the performance of the classifier on the tuning and test data\n",
        "print('Tuning data performance:')\n",
        "print('Accuracy:', accuracy_score(y_tuning_le, y_tuning_pred_xgb))\n",
        "print('Precision:', precision_score(y_tuning_le, y_tuning_pred_xgb, average='weighted'))\n",
        "print('Recall:', recall_score(y_tuning_le, y_tuning_pred_xgb, average='weighted'))\n",
        "print('F1-score:', f1_score(y_tuning_le, y_tuning_pred_xgb, average='weighted'))\n",
        "print('-------------------')\n",
        "print('Test data performance:')\n",
        "print('Accuracy:', accuracy_score(y_test_le, y_test_pred_xgb))\n",
        "print('Precision:', precision_score(y_test_le, y_test_pred_xgb, average='weighted'))\n",
        "print('Recall:', recall_score(y_test_le, y_test_pred_xgb, average='weighted'))\n",
        "print('F1-score:', f1_score(y_test_le, y_test_pred_xgb, average='weighted'))\n",
        "\n",
        "# Create a confusion matrix for the tune data\n",
        "cm_tuning_xgb = confusion_matrix(y_tuning_le, y_tuning_pred_xgb)\n",
        "sns.heatmap(cm_tuning_xgb, annot=True, cmap='Blues')\n",
        "plt.xlabel('Predicted labels')\n",
        "plt.ylabel('True labels')\n",
        "plt.title('Confusion Matrix on tune data')\n",
        "plt.show()\n",
        "\n",
        "# Create a classification report for the tune data\n",
        "report = classification_report(y_tuning_le, y_tuning_pred_xgb)\n",
        "print(report)\n",
        "print(cm_tuning_xgb)"
      ],
      "metadata": {
        "colab": {
          "base_uri": "https://localhost:8080/",
          "height": 678
        },
        "id": "YLhUrloDb0_x",
        "outputId": "cf067a82-435d-4f73-d754-58c51bc35a6e"
      },
      "id": "YLhUrloDb0_x",
      "execution_count": 81,
      "outputs": [
        {
          "output_type": "stream",
          "name": "stdout",
          "text": [
            "Tuning data performance:\n",
            "Accuracy: 0.6249808193954274\n",
            "Precision: 0.6281532465539957\n",
            "Recall: 0.6249808193954274\n",
            "F1-score: 0.6171438942536315\n",
            "-------------------\n",
            "Test data performance:\n",
            "Accuracy: 0.6271049906018643\n",
            "Precision: 0.6293500167243622\n",
            "Recall: 0.6271049906018643\n",
            "F1-score: 0.6195747539050134\n"
          ]
        },
        {
          "output_type": "display_data",
          "data": {
            "text/plain": [
              "<Figure size 432x288 with 2 Axes>"
            ],
            "image/png": "[encoded data removed]"
          },
          "metadata": {}
        },
        {
          "output_type": "stream",
          "name": "stdout",
          "text": [
            "              precision    recall  f1-score   support\n",
            "\n",
            "           0       0.62      0.76      0.68     13661\n",
            "           1       0.64      0.48      0.55     12407\n",
            "\n",
            "    accuracy                           0.62     26068\n",
            "   macro avg       0.63      0.62      0.61     26068\n",
            "weighted avg       0.63      0.62      0.62     26068\n",
            "\n",
            "[[10343  3318]\n",
            " [ 6458  5949]]\n"
          ]
        }
      ]
    },
    {
      "cell_type": "code",
      "source": [
        "# Create a confusion matrix for the tune data\n",
        "cm_test_xgb = confusion_matrix(y_test_le, y_test_pred_xgb)\n",
        "sns.heatmap(cm_test_xgb, annot=True, cmap='Blues')\n",
        "plt.xlabel('Predicted labels')\n",
        "plt.ylabel('True labels')\n",
        "plt.title('Confusion Matrix on test data')\n",
        "plt.savefig(\"/content/drive/MyDrive/TechLabs/project/flight_delay_kaggle/final_report/xgb_confusion_matrix\")\n",
        "plt.show()"
      ],
      "metadata": {
        "colab": {
          "base_uri": "https://localhost:8080/",
          "height": 296
        },
        "id": "xV78_1wT4b3F",
        "outputId": "a2e29358-8ef4-4d8a-d3fa-904a5b560d92"
      },
      "id": "xV78_1wT4b3F",
      "execution_count": 83,
      "outputs": [
        {
          "output_type": "display_data",
          "data": {
            "text/plain": [
              "<Figure size 432x288 with 2 Axes>"
            ],
            "image/png": "[encoded data removed]"
          },
          "metadata": {}
        }
      ]
    },
    {
      "cell_type": "markdown",
      "source": [
        "##Performance Evaluation"
      ],
      "metadata": {
        "id": "SpkU64i4qeM7"
      },
      "id": "SpkU64i4qeM7"
    },
    {
      "cell_type": "markdown",
      "source": [
        "<style>\n",
        "  table {\n",
        "    border-collapse: collapse;\n",
        "    width: 100%;\n",
        "  }\n",
        "\n",
        "  th, td {\n",
        "    text-align: left;\n",
        "    padding: 8px 16px;\n",
        "    border: 1px solid black;\n",
        "  }\n",
        "\n",
        "  th {\n",
        "    background-color: #f2f2f2;\n",
        "  }\n",
        "\n",
        "  td + td {\n",
        "    padding-left: 32px;\n",
        "  }\n",
        "</style>\n",
        "\n",
        "<table>\n",
        "  <tr>\n",
        "    <th>Classification Model</th>\n",
        "    <th>Precision </th>\n",
        "   <th> Recall\t<th>\n",
        "   <th> F1 <th>\n",
        "   <th> Accuracy<th>\n",
        "  </tr>\n",
        "  <tr>\n",
        "    <td>Logistic Regression</td>\n",
        "    <td> 0.62</td>\n",
        "    <td> 0.61<td></td>\n",
        "    <td> 0.61<td></td>\n",
        "    <td> 0.61</td>\n",
        "  </tr>\n",
        "  <tr>\n",
        "    <td>Decision Tree Classifier</td>\n",
        "      <td>0.56</td>\n",
        "    <td> 0.56<td></td>\n",
        "    <td> 0.56<td></td>\n",
        "    <td> 0.56</td>\n",
        "  </tr>\n",
        "  </tr>\n",
        "  <tr>\n",
        "    <td>Random Forest</td>\n",
        "    <td> 0.59</td>\n",
        "    <td> 0.59<td></td>\n",
        "    <td> 0.59<td></td>\n",
        "    <td> 0.59</td>\n",
        "  </tr>\n",
        "  </tr>\n",
        "  <tr>\n",
        "    <td>Extra Tree Classifier</td>\n",
        "    <td> 0.57</td>\n",
        "    <td> 0.57<td></td>\n",
        "    <td> 0.57<td></td>\n",
        "    <td> 0.57</td>\n",
        "  </tr>\n",
        "  <tr>\n",
        "    <td>Gradient Boosting Classifier</td>\n",
        "    <td> 0.62</td>\n",
        "    <td> 0.62<td></td>\n",
        "    <td> 0.62<td></td>\n",
        "    <td> 0.62</td>\n",
        "  </tr>\n",
        "</table>\n"
      ],
      "metadata": {
        "id": "2hdihy_pqxEI"
      },
      "id": "2hdihy_pqxEI"
    },
    {
      "cell_type": "code",
      "source": [
        "import matplotlib.pyplot as plt\n",
        "from sklearn.metrics import roc_curve, auc\n",
        "# Define the figure size\n",
        "fig = plt.figure(figsize=(10, 6))\n",
        "\n",
        "# Define a function to plot the ROC curve\n",
        "def plot_roc_curve(fpr, tpr, auc_score, model_name):\n",
        "    plt.plot(fpr, tpr, label='%s (AUC = %0.2f)' % (model_name, auc_score))\n",
        "    plt.plot([0, 1], [0, 1], 'k--')\n",
        "    plt.xlim([0.0, 1.0])\n",
        "    plt.ylim([0.0, 1.05])\n",
        "    plt.xlabel('False Positive Rate')\n",
        "    plt.ylabel('True Positive Rate')\n",
        "    plt.title('Receiver Operating Characteristic (ROC) Curve')\n",
        "    plt.legend(loc=\"lower right\")\n",
        "\n",
        "\n",
        "# Define the models to evaluate\n",
        "models = {\n",
        "    'Logistic Regression': lr,\n",
        "    'Decision Tree Classifier': dt,\n",
        "    'Random Forest': rf_clf,\n",
        "    'Extra Tree Classifier': etc_clf,\n",
        "    'XGB Classifier': xgb_clf\n",
        "}\n",
        "\n",
        "# Plot the ROC curve for each model\n",
        "for name, model in models.items():\n",
        "    y_pred_proba = model.predict_proba(X_test)[:,1]\n",
        "    fpr, tpr, thresholds = roc_curve(y_test_le, y_pred_proba)\n",
        "    auc_score = auc(fpr, tpr)\n",
        "    plot_roc_curve(fpr, tpr, auc_score, name)\n",
        "    plt.grid(False)\n",
        "plt.savefig(\"/content/drive/MyDrive/TechLabs/project/flight_delay_kaggle/final_report/roc_curve\")\n",
        "plt.show()\n",
        "\n",
        "# Calculate AUC score for each model\n",
        "for name, model in models.items():\n",
        "    y_pred_proba = model.predict_proba(X_test)[:,1]\n",
        "    auc_score = auc(fpr, tpr)\n",
        "    print('%s AUC score: %0.2f' % (name, auc_score))\n"
      ],
      "metadata": {
        "colab": {
          "base_uri": "https://localhost:8080/",
          "height": 492
        },
        "id": "VXrbr7UVv4Jz",
        "outputId": "0c1efd47-c4df-450e-8aa1-25b2753b49e2"
      },
      "id": "VXrbr7UVv4Jz",
      "execution_count": 84,
      "outputs": [
        {
          "output_type": "display_data",
          "data": {
            "text/plain": [
              "<Figure size 720x432 with 1 Axes>"
            ],
            "image/png": "[encoded data removed]"
          },
          "metadata": {}
        },
        {
          "output_type": "stream",
          "name": "stdout",
          "text": [
            "Logistic Regression AUC score: 0.67\n",
            "Decision Tree Classifier AUC score: 0.67\n",
            "Random Forest AUC score: 0.67\n",
            "Extra Tree Classifier AUC score: 0.67\n",
            "XGB Classifier AUC score: 0.67\n"
          ]
        }
      ]
    },
    {
      "cell_type": "markdown",
      "source": [
        "The AUC (Area Under the Curve) score is a measure of the performance of a binary classification model. It represents the area under the ROC (Receiver Operating Characteristic) curve, which plots the true positive rate (TPR) against the false positive rate (FPR) at various threshold settings.\n",
        "\n",
        "In general, an AUC score of 0.5 indicates a model that performs no better than random guessing, while an AUC score of 1.0 indicates a perfect model. Therefore, an AUC score of 0.67 suggests that the models evaluated here are performing better than random guessing"
      ],
      "metadata": {
        "id": "tq2vxeghy9Cx"
      },
      "id": "tq2vxeghy9Cx"
    },
    {
      "cell_type": "code",
      "source": [],
      "metadata": {
        "id": "77n02bVfF37P"
      },
      "id": "77n02bVfF37P",
      "execution_count": null,
      "outputs": []
    },
    {
      "cell_type": "code",
      "source": [],
      "metadata": {
        "id": "3F1G8znHtNm7"
      },
      "id": "3F1G8znHtNm7",
      "execution_count": null,
      "outputs": []
    },
    {
      "cell_type": "code",
      "source": [],
      "metadata": {
        "id": "5GQGbuRYtkx2"
      },
      "id": "5GQGbuRYtkx2",
      "execution_count": null,
      "outputs": []
    },
    {
      "cell_type": "code",
      "source": [],
      "metadata": {
        "id": "C5icQgtIb0xk"
      },
      "id": "C5icQgtIb0xk",
      "execution_count": null,
      "outputs": []
    },
    {
      "cell_type": "code",
      "source": [],
      "metadata": {
        "id": "w6wX_7_Texff"
      },
      "id": "w6wX_7_Texff",
      "execution_count": null,
      "outputs": []
    },
    {
      "cell_type": "code",
      "source": [],
      "metadata": {
        "id": "u6aAjCpzexKQ"
      },
      "id": "u6aAjCpzexKQ",
      "execution_count": null,
      "outputs": []
    },
    {
      "cell_type": "code",
      "source": [],
      "metadata": {
        "id": "fNGUj3bhDeVf"
      },
      "id": "fNGUj3bhDeVf",
      "execution_count": null,
      "outputs": []
    },
    {
      "cell_type": "code",
      "source": [],
      "metadata": {
        "id": "ZD3lR3FpDeIs"
      },
      "id": "ZD3lR3FpDeIs",
      "execution_count": null,
      "outputs": []
    },
    {
      "cell_type": "code",
      "source": [],
      "metadata": {
        "id": "w3SiefQzSvLZ"
      },
      "id": "w3SiefQzSvLZ",
      "execution_count": null,
      "outputs": []
    },
    {
      "cell_type": "code",
      "source": [],
      "metadata": {
        "id": "TqLZifj0_BDA"
      },
      "id": "TqLZifj0_BDA",
      "execution_count": null,
      "outputs": []
    }
  ],
  "metadata": {
    "kernelspec": {
      "display_name": "Python 3 (ipykernel)",
      "language": "python",
      "name": "python3"
    },
    "language_info": {
      "codemirror_mode": {
        "name": "ipython",
        "version": 3
      },
      "file_extension": ".py",
      "mimetype": "text/x-python",
      "name": "python",
      "nbconvert_exporter": "python",
      "pygments_lexer": "ipython3",
      "version": "3.8.9"
    },
    "colab": {
      "provenance": [],
      "include_colab_link": true
    }
  },
  "nbformat": 4,
  "nbformat_minor": 5
}